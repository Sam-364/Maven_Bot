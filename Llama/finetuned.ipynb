{
 "cells": [
  {
   "cell_type": "code",
   "execution_count": 15,
   "metadata": {},
   "outputs": [
    {
     "name": "stdout",
     "output_type": "stream",
     "text": [
      "Requirement already satisfied: autotrain-advanced in c:\\users\\sambi\\appdata\\local\\programs\\python\\python311\\lib\\site-packages (0.6.20)\n",
      "Requirement already satisfied: albumentations==1.3.1 in c:\\users\\sambi\\appdata\\local\\programs\\python\\python311\\lib\\site-packages (from autotrain-advanced) (1.3.1)\n",
      "Requirement already satisfied: codecarbon==2.2.3 in c:\\users\\sambi\\appdata\\local\\programs\\python\\python311\\lib\\site-packages (from autotrain-advanced) (2.2.3)\n",
      "Requirement already satisfied: datasets[vision]~=2.14.0 in c:\\users\\sambi\\appdata\\local\\programs\\python\\python311\\lib\\site-packages (from autotrain-advanced) (2.14.4)\n",
      "Requirement already satisfied: evaluate==0.3.0 in c:\\users\\sambi\\appdata\\local\\programs\\python\\python311\\lib\\site-packages (from autotrain-advanced) (0.3.0)\n",
      "Requirement already satisfied: ipadic==1.0.0 in c:\\users\\sambi\\appdata\\local\\programs\\python\\python311\\lib\\site-packages (from autotrain-advanced) (1.0.0)\n",
      "Requirement already satisfied: jiwer==3.0.2 in c:\\users\\sambi\\appdata\\local\\programs\\python\\python311\\lib\\site-packages (from autotrain-advanced) (3.0.2)\n",
      "Requirement already satisfied: joblib==1.3.1 in c:\\users\\sambi\\appdata\\local\\programs\\python\\python311\\lib\\site-packages (from autotrain-advanced) (1.3.1)\n",
      "Requirement already satisfied: loguru==0.7.0 in c:\\users\\sambi\\appdata\\local\\programs\\python\\python311\\lib\\site-packages (from autotrain-advanced) (0.7.0)\n",
      "Requirement already satisfied: pandas==2.0.3 in c:\\users\\sambi\\appdata\\local\\programs\\python\\python311\\lib\\site-packages (from autotrain-advanced) (2.0.3)\n",
      "Requirement already satisfied: Pillow==10.0.0 in c:\\users\\sambi\\appdata\\local\\programs\\python\\python311\\lib\\site-packages (from autotrain-advanced) (10.0.0)\n",
      "Requirement already satisfied: protobuf==4.23.4 in c:\\users\\sambi\\appdata\\local\\programs\\python\\python311\\lib\\site-packages (from autotrain-advanced) (4.23.4)\n",
      "Requirement already satisfied: pydantic==1.10.11 in c:\\users\\sambi\\appdata\\local\\programs\\python\\python311\\lib\\site-packages (from autotrain-advanced) (1.10.11)\n",
      "Requirement already satisfied: sacremoses==0.0.53 in c:\\users\\sambi\\appdata\\local\\programs\\python\\python311\\lib\\site-packages (from autotrain-advanced) (0.0.53)\n",
      "Requirement already satisfied: scikit-learn==1.3.0 in c:\\users\\sambi\\appdata\\local\\programs\\python\\python311\\lib\\site-packages (from autotrain-advanced) (1.3.0)\n",
      "Requirement already satisfied: sentencepiece==0.1.99 in c:\\users\\sambi\\appdata\\local\\programs\\python\\python311\\lib\\site-packages (from autotrain-advanced) (0.1.99)\n",
      "Requirement already satisfied: tqdm==4.65.0 in c:\\users\\sambi\\appdata\\local\\programs\\python\\python311\\lib\\site-packages (from autotrain-advanced) (4.65.0)\n",
      "Requirement already satisfied: werkzeug==2.3.6 in c:\\users\\sambi\\appdata\\local\\programs\\python\\python311\\lib\\site-packages (from autotrain-advanced) (2.3.6)\n",
      "Requirement already satisfied: huggingface-hub>=0.16.4 in c:\\users\\sambi\\appdata\\local\\programs\\python\\python311\\lib\\site-packages (from autotrain-advanced) (0.16.4)\n",
      "Requirement already satisfied: requests==2.31.0 in c:\\users\\sambi\\appdata\\local\\programs\\python\\python311\\lib\\site-packages (from autotrain-advanced) (2.31.0)\n",
      "Requirement already satisfied: gradio==3.39.0 in c:\\users\\sambi\\appdata\\local\\programs\\python\\python311\\lib\\site-packages (from autotrain-advanced) (3.39.0)\n",
      "Requirement already satisfied: einops==0.6.1 in c:\\users\\sambi\\appdata\\local\\programs\\python\\python311\\lib\\site-packages (from autotrain-advanced) (0.6.1)\n",
      "Requirement already satisfied: invisible-watermark==0.2.0 in c:\\users\\sambi\\appdata\\local\\programs\\python\\python311\\lib\\site-packages (from autotrain-advanced) (0.2.0)\n",
      "Requirement already satisfied: tensorboard in c:\\users\\sambi\\appdata\\local\\programs\\python\\python311\\lib\\site-packages (from autotrain-advanced) (2.13.0)\n",
      "Requirement already satisfied: peft in c:\\users\\sambi\\appdata\\local\\programs\\python\\python311\\lib\\site-packages (from autotrain-advanced) (0.5.0.dev0)\n",
      "Requirement already satisfied: trl in c:\\users\\sambi\\appdata\\local\\programs\\python\\python311\\lib\\site-packages (from autotrain-advanced) (0.5.1.dev0)\n",
      "Requirement already satisfied: tiktoken in c:\\users\\sambi\\appdata\\local\\programs\\python\\python311\\lib\\site-packages (from autotrain-advanced) (0.4.0)\n",
      "Requirement already satisfied: transformers in c:\\users\\sambi\\appdata\\local\\programs\\python\\python311\\lib\\site-packages (from autotrain-advanced) (4.32.0.dev0)\n",
      "Requirement already satisfied: accelerate in c:\\users\\sambi\\appdata\\local\\programs\\python\\python311\\lib\\site-packages (from autotrain-advanced) (0.21.0)\n",
      "Requirement already satisfied: diffusers in c:\\users\\sambi\\appdata\\local\\programs\\python\\python311\\lib\\site-packages (from autotrain-advanced) (0.21.0.dev0)\n",
      "Requirement already satisfied: bitsandbytes in c:\\users\\sambi\\appdata\\local\\programs\\python\\python311\\lib\\site-packages (from autotrain-advanced) (0.41.1)\n",
      "Requirement already satisfied: numpy>=1.11.1 in c:\\users\\sambi\\appdata\\local\\programs\\python\\python311\\lib\\site-packages (from albumentations==1.3.1->autotrain-advanced) (1.24.1)\n",
      "Requirement already satisfied: scipy>=1.1.0 in c:\\users\\sambi\\appdata\\local\\programs\\python\\python311\\lib\\site-packages (from albumentations==1.3.1->autotrain-advanced) (1.11.1)\n",
      "Requirement already satisfied: scikit-image>=0.16.1 in c:\\users\\sambi\\appdata\\local\\programs\\python\\python311\\lib\\site-packages (from albumentations==1.3.1->autotrain-advanced) (0.21.0)\n",
      "Requirement already satisfied: PyYAML in c:\\users\\sambi\\appdata\\local\\programs\\python\\python311\\lib\\site-packages (from albumentations==1.3.1->autotrain-advanced) (6.0)\n",
      "Requirement already satisfied: qudida>=0.0.4 in c:\\users\\sambi\\appdata\\local\\programs\\python\\python311\\lib\\site-packages (from albumentations==1.3.1->autotrain-advanced) (0.0.4)\n",
      "Requirement already satisfied: opencv-python-headless>=4.1.1 in c:\\users\\sambi\\appdata\\local\\programs\\python\\python311\\lib\\site-packages (from albumentations==1.3.1->autotrain-advanced) (4.8.0.76)\n",
      "Requirement already satisfied: arrow in c:\\users\\sambi\\appdata\\local\\programs\\python\\python311\\lib\\site-packages (from codecarbon==2.2.3->autotrain-advanced) (1.2.3)\n",
      "Requirement already satisfied: pynvml in c:\\users\\sambi\\appdata\\local\\programs\\python\\python311\\lib\\site-packages (from codecarbon==2.2.3->autotrain-advanced) (11.5.0)\n",
      "Requirement already satisfied: psutil in c:\\users\\sambi\\appdata\\local\\programs\\python\\python311\\lib\\site-packages (from codecarbon==2.2.3->autotrain-advanced) (5.9.4)\n",
      "Requirement already satisfied: py-cpuinfo in c:\\users\\sambi\\appdata\\local\\programs\\python\\python311\\lib\\site-packages (from codecarbon==2.2.3->autotrain-advanced) (9.0.0)\n",
      "Requirement already satisfied: fuzzywuzzy in c:\\users\\sambi\\appdata\\local\\programs\\python\\python311\\lib\\site-packages (from codecarbon==2.2.3->autotrain-advanced) (0.18.0)\n",
      "Requirement already satisfied: click in c:\\users\\sambi\\appdata\\local\\programs\\python\\python311\\lib\\site-packages (from codecarbon==2.2.3->autotrain-advanced) (8.1.6)\n",
      "Requirement already satisfied: dill in c:\\users\\sambi\\appdata\\local\\programs\\python\\python311\\lib\\site-packages (from evaluate==0.3.0->autotrain-advanced) (0.3.7)\n",
      "Requirement already satisfied: xxhash in c:\\users\\sambi\\appdata\\local\\programs\\python\\python311\\lib\\site-packages (from evaluate==0.3.0->autotrain-advanced) (3.3.0)\n",
      "Requirement already satisfied: multiprocess in c:\\users\\sambi\\appdata\\local\\programs\\python\\python311\\lib\\site-packages (from evaluate==0.3.0->autotrain-advanced) (0.70.15)\n",
      "Requirement already satisfied: fsspec[http]>=2021.05.0 in c:\\users\\sambi\\appdata\\local\\programs\\python\\python311\\lib\\site-packages (from evaluate==0.3.0->autotrain-advanced) (2023.6.0)\n",
      "Requirement already satisfied: packaging in c:\\users\\sambi\\appdata\\local\\programs\\python\\python311\\lib\\site-packages (from evaluate==0.3.0->autotrain-advanced) (23.0)\n",
      "Requirement already satisfied: responses<0.19 in c:\\users\\sambi\\appdata\\local\\programs\\python\\python311\\lib\\site-packages (from evaluate==0.3.0->autotrain-advanced) (0.18.0)\n",
      "Requirement already satisfied: aiofiles<24.0,>=22.0 in c:\\users\\sambi\\appdata\\local\\programs\\python\\python311\\lib\\site-packages (from gradio==3.39.0->autotrain-advanced) (23.2.1)\n",
      "Requirement already satisfied: aiohttp~=3.0 in c:\\users\\sambi\\appdata\\local\\programs\\python\\python311\\lib\\site-packages (from gradio==3.39.0->autotrain-advanced) (3.8.5)\n",
      "Requirement already satisfied: altair<6.0,>=4.2.0 in c:\\users\\sambi\\appdata\\local\\programs\\python\\python311\\lib\\site-packages (from gradio==3.39.0->autotrain-advanced) (5.0.1)\n",
      "Requirement already satisfied: fastapi in c:\\users\\sambi\\appdata\\local\\programs\\python\\python311\\lib\\site-packages (from gradio==3.39.0->autotrain-advanced) (0.101.0)\n",
      "Requirement already satisfied: ffmpy in c:\\users\\sambi\\appdata\\local\\programs\\python\\python311\\lib\\site-packages (from gradio==3.39.0->autotrain-advanced) (0.3.1)\n",
      "Requirement already satisfied: gradio-client>=0.3.0 in c:\\users\\sambi\\appdata\\local\\programs\\python\\python311\\lib\\site-packages (from gradio==3.39.0->autotrain-advanced) (0.4.0)\n",
      "Requirement already satisfied: httpx in c:\\users\\sambi\\appdata\\local\\programs\\python\\python311\\lib\\site-packages (from gradio==3.39.0->autotrain-advanced) (0.24.1)\n",
      "Requirement already satisfied: jinja2<4.0 in c:\\users\\sambi\\appdata\\local\\programs\\python\\python311\\lib\\site-packages (from gradio==3.39.0->autotrain-advanced) (3.1.2)\n",
      "Requirement already satisfied: markdown-it-py[linkify]>=2.0.0 in c:\\users\\sambi\\appdata\\local\\programs\\python\\python311\\lib\\site-packages (from gradio==3.39.0->autotrain-advanced) (2.2.0)\n",
      "Requirement already satisfied: markupsafe~=2.0 in c:\\users\\sambi\\appdata\\local\\programs\\python\\python311\\lib\\site-packages (from gradio==3.39.0->autotrain-advanced) (2.1.1)\n",
      "Requirement already satisfied: matplotlib~=3.0 in c:\\users\\sambi\\appdata\\local\\programs\\python\\python311\\lib\\site-packages (from gradio==3.39.0->autotrain-advanced) (3.7.2)\n",
      "Requirement already satisfied: mdit-py-plugins<=0.3.3 in c:\\users\\sambi\\appdata\\local\\programs\\python\\python311\\lib\\site-packages (from gradio==3.39.0->autotrain-advanced) (0.3.3)\n",
      "Requirement already satisfied: orjson~=3.0 in c:\\users\\sambi\\appdata\\local\\programs\\python\\python311\\lib\\site-packages (from gradio==3.39.0->autotrain-advanced) (3.9.4)\n",
      "Requirement already satisfied: pydub in c:\\users\\sambi\\appdata\\local\\programs\\python\\python311\\lib\\site-packages (from gradio==3.39.0->autotrain-advanced) (0.25.1)\n",
      "Requirement already satisfied: python-multipart in c:\\users\\sambi\\appdata\\local\\programs\\python\\python311\\lib\\site-packages (from gradio==3.39.0->autotrain-advanced) (0.0.6)\n",
      "Requirement already satisfied: semantic-version~=2.0 in c:\\users\\sambi\\appdata\\local\\programs\\python\\python311\\lib\\site-packages (from gradio==3.39.0->autotrain-advanced) (2.10.0)\n",
      "Requirement already satisfied: typing-extensions~=4.0 in c:\\users\\sambi\\appdata\\local\\programs\\python\\python311\\lib\\site-packages (from gradio==3.39.0->autotrain-advanced) (4.5.0)\n",
      "Requirement already satisfied: uvicorn>=0.14.0 in c:\\users\\sambi\\appdata\\local\\programs\\python\\python311\\lib\\site-packages (from gradio==3.39.0->autotrain-advanced) (0.23.2)\n",
      "Requirement already satisfied: websockets<12.0,>=10.0 in c:\\users\\sambi\\appdata\\local\\programs\\python\\python311\\lib\\site-packages (from gradio==3.39.0->autotrain-advanced) (11.0.3)\n",
      "Requirement already satisfied: PyWavelets>=1.1.1 in c:\\users\\sambi\\appdata\\local\\programs\\python\\python311\\lib\\site-packages (from invisible-watermark==0.2.0->autotrain-advanced) (1.4.1)\n",
      "Requirement already satisfied: opencv-python>=4.1.0.25 in c:\\users\\sambi\\appdata\\local\\programs\\python\\python311\\lib\\site-packages (from invisible-watermark==0.2.0->autotrain-advanced) (4.8.0.76)\n",
      "Requirement already satisfied: torch in c:\\users\\sambi\\appdata\\local\\programs\\python\\python311\\lib\\site-packages (from invisible-watermark==0.2.0->autotrain-advanced) (2.0.1)\n",
      "Requirement already satisfied: rapidfuzz==2.13.7 in c:\\users\\sambi\\appdata\\local\\programs\\python\\python311\\lib\\site-packages (from jiwer==3.0.2->autotrain-advanced) (2.13.7)\n",
      "Requirement already satisfied: colorama>=0.3.4 in c:\\users\\sambi\\appdata\\local\\programs\\python\\python311\\lib\\site-packages (from loguru==0.7.0->autotrain-advanced) (0.4.6)\n",
      "Requirement already satisfied: win32-setctime>=1.0.0 in c:\\users\\sambi\\appdata\\local\\programs\\python\\python311\\lib\\site-packages (from loguru==0.7.0->autotrain-advanced) (1.1.0)\n",
      "Requirement already satisfied: python-dateutil>=2.8.2 in c:\\users\\sambi\\appdata\\local\\programs\\python\\python311\\lib\\site-packages (from pandas==2.0.3->autotrain-advanced) (2.8.2)\n",
      "Requirement already satisfied: pytz>=2020.1 in c:\\users\\sambi\\appdata\\local\\programs\\python\\python311\\lib\\site-packages (from pandas==2.0.3->autotrain-advanced) (2022.7.1)\n",
      "Requirement already satisfied: tzdata>=2022.1 in c:\\users\\sambi\\appdata\\local\\programs\\python\\python311\\lib\\site-packages (from pandas==2.0.3->autotrain-advanced) (2023.3)\n",
      "Requirement already satisfied: charset-normalizer<4,>=2 in c:\\users\\sambi\\appdata\\local\\programs\\python\\python311\\lib\\site-packages (from requests==2.31.0->autotrain-advanced) (3.2.0)\n",
      "Requirement already satisfied: idna<4,>=2.5 in c:\\users\\sambi\\appdata\\local\\programs\\python\\python311\\lib\\site-packages (from requests==2.31.0->autotrain-advanced) (3.4)\n",
      "Requirement already satisfied: urllib3<3,>=1.21.1 in c:\\users\\sambi\\appdata\\local\\programs\\python\\python311\\lib\\site-packages (from requests==2.31.0->autotrain-advanced) (1.26.14)\n",
      "Requirement already satisfied: certifi>=2017.4.17 in c:\\users\\sambi\\appdata\\local\\programs\\python\\python311\\lib\\site-packages (from requests==2.31.0->autotrain-advanced) (2022.12.7)\n",
      "Requirement already satisfied: regex in c:\\users\\sambi\\appdata\\local\\programs\\python\\python311\\lib\\site-packages (from sacremoses==0.0.53->autotrain-advanced) (2023.8.8)\n",
      "Requirement already satisfied: six in c:\\users\\sambi\\appdata\\local\\programs\\python\\python311\\lib\\site-packages (from sacremoses==0.0.53->autotrain-advanced) (1.16.0)\n",
      "Requirement already satisfied: threadpoolctl>=2.0.0 in c:\\users\\sambi\\appdata\\local\\programs\\python\\python311\\lib\\site-packages (from scikit-learn==1.3.0->autotrain-advanced) (3.2.0)\n",
      "Requirement already satisfied: pyarrow>=8.0.0 in c:\\users\\sambi\\appdata\\local\\programs\\python\\python311\\lib\\site-packages (from datasets[vision]~=2.14.0->autotrain-advanced) (12.0.1)\n",
      "Requirement already satisfied: filelock in c:\\users\\sambi\\appdata\\local\\programs\\python\\python311\\lib\\site-packages (from huggingface-hub>=0.16.4->autotrain-advanced) (3.12.2)\n",
      "Requirement already satisfied: importlib-metadata in c:\\users\\sambi\\appdata\\local\\programs\\python\\python311\\lib\\site-packages (from diffusers->autotrain-advanced) (6.8.0)\n",
      "Requirement already satisfied: safetensors>=0.3.1 in c:\\users\\sambi\\appdata\\local\\programs\\python\\python311\\lib\\site-packages (from diffusers->autotrain-advanced) (0.3.2)\n",
      "Requirement already satisfied: absl-py>=0.4 in c:\\users\\sambi\\appdata\\local\\programs\\python\\python311\\lib\\site-packages (from tensorboard->autotrain-advanced) (1.4.0)\n",
      "Requirement already satisfied: grpcio>=1.48.2 in c:\\users\\sambi\\appdata\\local\\programs\\python\\python311\\lib\\site-packages (from tensorboard->autotrain-advanced) (1.56.2)\n",
      "Requirement already satisfied: google-auth<3,>=1.6.3 in c:\\users\\sambi\\appdata\\local\\programs\\python\\python311\\lib\\site-packages (from tensorboard->autotrain-advanced) (2.22.0)\n",
      "Requirement already satisfied: google-auth-oauthlib<1.1,>=0.5 in c:\\users\\sambi\\appdata\\local\\programs\\python\\python311\\lib\\site-packages (from tensorboard->autotrain-advanced) (1.0.0)\n",
      "Requirement already satisfied: markdown>=2.6.8 in c:\\users\\sambi\\appdata\\local\\programs\\python\\python311\\lib\\site-packages (from tensorboard->autotrain-advanced) (3.4.4)\n",
      "Requirement already satisfied: setuptools>=41.0.0 in c:\\users\\sambi\\appdata\\local\\programs\\python\\python311\\lib\\site-packages (from tensorboard->autotrain-advanced) (65.5.0)\n",
      "Requirement already satisfied: tensorboard-data-server<0.8.0,>=0.7.0 in c:\\users\\sambi\\appdata\\local\\programs\\python\\python311\\lib\\site-packages (from tensorboard->autotrain-advanced) (0.7.1)\n",
      "Requirement already satisfied: wheel>=0.26 in c:\\users\\sambi\\appdata\\local\\programs\\python\\python311\\lib\\site-packages (from tensorboard->autotrain-advanced) (0.41.0)\n",
      "Requirement already satisfied: tokenizers!=0.11.3,<0.14,>=0.11.1 in c:\\users\\sambi\\appdata\\local\\programs\\python\\python311\\lib\\site-packages (from transformers->autotrain-advanced) (0.13.3)\n",
      "Requirement already satisfied: attrs>=17.3.0 in c:\\users\\sambi\\appdata\\local\\programs\\python\\python311\\lib\\site-packages (from aiohttp~=3.0->gradio==3.39.0->autotrain-advanced) (22.2.0)\n",
      "Requirement already satisfied: multidict<7.0,>=4.5 in c:\\users\\sambi\\appdata\\local\\programs\\python\\python311\\lib\\site-packages (from aiohttp~=3.0->gradio==3.39.0->autotrain-advanced) (6.0.4)\n",
      "Requirement already satisfied: async-timeout<5.0,>=4.0.0a3 in c:\\users\\sambi\\appdata\\local\\programs\\python\\python311\\lib\\site-packages (from aiohttp~=3.0->gradio==3.39.0->autotrain-advanced) (4.0.3)\n",
      "Requirement already satisfied: yarl<2.0,>=1.0 in c:\\users\\sambi\\appdata\\local\\programs\\python\\python311\\lib\\site-packages (from aiohttp~=3.0->gradio==3.39.0->autotrain-advanced) (1.9.2)\n",
      "Requirement already satisfied: frozenlist>=1.1.1 in c:\\users\\sambi\\appdata\\local\\programs\\python\\python311\\lib\\site-packages (from aiohttp~=3.0->gradio==3.39.0->autotrain-advanced) (1.4.0)\n",
      "Requirement already satisfied: aiosignal>=1.1.2 in c:\\users\\sambi\\appdata\\local\\programs\\python\\python311\\lib\\site-packages (from aiohttp~=3.0->gradio==3.39.0->autotrain-advanced) (1.3.1)\n",
      "Requirement already satisfied: jsonschema>=3.0 in c:\\users\\sambi\\appdata\\local\\programs\\python\\python311\\lib\\site-packages (from altair<6.0,>=4.2.0->gradio==3.39.0->autotrain-advanced) (4.17.3)\n",
      "Requirement already satisfied: toolz in c:\\users\\sambi\\appdata\\local\\programs\\python\\python311\\lib\\site-packages (from altair<6.0,>=4.2.0->gradio==3.39.0->autotrain-advanced) (0.12.0)\n",
      "Requirement already satisfied: cachetools<6.0,>=2.0.0 in c:\\users\\sambi\\appdata\\local\\programs\\python\\python311\\lib\\site-packages (from google-auth<3,>=1.6.3->tensorboard->autotrain-advanced) (5.3.1)\n",
      "Requirement already satisfied: pyasn1-modules>=0.2.1 in c:\\users\\sambi\\appdata\\local\\programs\\python\\python311\\lib\\site-packages (from google-auth<3,>=1.6.3->tensorboard->autotrain-advanced) (0.3.0)\n",
      "Requirement already satisfied: rsa<5,>=3.1.4 in c:\\users\\sambi\\appdata\\local\\programs\\python\\python311\\lib\\site-packages (from google-auth<3,>=1.6.3->tensorboard->autotrain-advanced) (4.9)\n",
      "Requirement already satisfied: requests-oauthlib>=0.7.0 in c:\\users\\sambi\\appdata\\local\\programs\\python\\python311\\lib\\site-packages (from google-auth-oauthlib<1.1,>=0.5->tensorboard->autotrain-advanced) (1.3.1)\n",
      "Requirement already satisfied: mdurl~=0.1 in c:\\users\\sambi\\appdata\\local\\programs\\python\\python311\\lib\\site-packages (from markdown-it-py[linkify]>=2.0.0->gradio==3.39.0->autotrain-advanced) (0.1.2)\n",
      "Requirement already satisfied: linkify-it-py<3,>=1 in c:\\users\\sambi\\appdata\\local\\programs\\python\\python311\\lib\\site-packages (from markdown-it-py[linkify]>=2.0.0->gradio==3.39.0->autotrain-advanced) (2.0.2)\n",
      "Requirement already satisfied: contourpy>=1.0.1 in c:\\users\\sambi\\appdata\\local\\programs\\python\\python311\\lib\\site-packages (from matplotlib~=3.0->gradio==3.39.0->autotrain-advanced) (1.1.0)\n",
      "Requirement already satisfied: cycler>=0.10 in c:\\users\\sambi\\appdata\\local\\programs\\python\\python311\\lib\\site-packages (from matplotlib~=3.0->gradio==3.39.0->autotrain-advanced) (0.11.0)\n",
      "Requirement already satisfied: fonttools>=4.22.0 in c:\\users\\sambi\\appdata\\local\\programs\\python\\python311\\lib\\site-packages (from matplotlib~=3.0->gradio==3.39.0->autotrain-advanced) (4.42.0)\n",
      "Requirement already satisfied: kiwisolver>=1.0.1 in c:\\users\\sambi\\appdata\\local\\programs\\python\\python311\\lib\\site-packages (from matplotlib~=3.0->gradio==3.39.0->autotrain-advanced) (1.4.4)\n",
      "Requirement already satisfied: pyparsing<3.1,>=2.3.1 in c:\\users\\sambi\\appdata\\local\\programs\\python\\python311\\lib\\site-packages (from matplotlib~=3.0->gradio==3.39.0->autotrain-advanced) (3.0.9)\n",
      "Requirement already satisfied: networkx>=2.8 in c:\\users\\sambi\\appdata\\local\\programs\\python\\python311\\lib\\site-packages (from scikit-image>=0.16.1->albumentations==1.3.1->autotrain-advanced) (3.1)\n",
      "Requirement already satisfied: imageio>=2.27 in c:\\users\\sambi\\appdata\\local\\programs\\python\\python311\\lib\\site-packages (from scikit-image>=0.16.1->albumentations==1.3.1->autotrain-advanced) (2.31.1)\n",
      "Requirement already satisfied: tifffile>=2022.8.12 in c:\\users\\sambi\\appdata\\local\\programs\\python\\python311\\lib\\site-packages (from scikit-image>=0.16.1->albumentations==1.3.1->autotrain-advanced) (2023.7.18)\n",
      "Requirement already satisfied: lazy_loader>=0.2 in c:\\users\\sambi\\appdata\\local\\programs\\python\\python311\\lib\\site-packages (from scikit-image>=0.16.1->albumentations==1.3.1->autotrain-advanced) (0.3)\n",
      "Requirement already satisfied: sympy in c:\\users\\sambi\\appdata\\local\\programs\\python\\python311\\lib\\site-packages (from torch->invisible-watermark==0.2.0->autotrain-advanced) (1.12)\n",
      "Requirement already satisfied: h11>=0.8 in c:\\users\\sambi\\appdata\\local\\programs\\python\\python311\\lib\\site-packages (from uvicorn>=0.14.0->gradio==3.39.0->autotrain-advanced) (0.14.0)\n",
      "Requirement already satisfied: starlette<0.28.0,>=0.27.0 in c:\\users\\sambi\\appdata\\local\\programs\\python\\python311\\lib\\site-packages (from fastapi->gradio==3.39.0->autotrain-advanced) (0.27.0)\n",
      "Requirement already satisfied: httpcore<0.18.0,>=0.15.0 in c:\\users\\sambi\\appdata\\local\\programs\\python\\python311\\lib\\site-packages (from httpx->gradio==3.39.0->autotrain-advanced) (0.17.3)\n",
      "Requirement already satisfied: sniffio in c:\\users\\sambi\\appdata\\local\\programs\\python\\python311\\lib\\site-packages (from httpx->gradio==3.39.0->autotrain-advanced) (1.3.0)\n",
      "Requirement already satisfied: zipp>=0.5 in c:\\users\\sambi\\appdata\\local\\programs\\python\\python311\\lib\\site-packages (from importlib-metadata->diffusers->autotrain-advanced) (3.16.2)\n",
      "Requirement already satisfied: anyio<5.0,>=3.0 in c:\\users\\sambi\\appdata\\local\\programs\\python\\python311\\lib\\site-packages (from httpcore<0.18.0,>=0.15.0->httpx->gradio==3.39.0->autotrain-advanced) (3.6.2)\n",
      "Requirement already satisfied: pyrsistent!=0.17.0,!=0.17.1,!=0.17.2,>=0.14.0 in c:\\users\\sambi\\appdata\\local\\programs\\python\\python311\\lib\\site-packages (from jsonschema>=3.0->altair<6.0,>=4.2.0->gradio==3.39.0->autotrain-advanced) (0.19.3)\n",
      "Requirement already satisfied: uc-micro-py in c:\\users\\sambi\\appdata\\local\\programs\\python\\python311\\lib\\site-packages (from linkify-it-py<3,>=1->markdown-it-py[linkify]>=2.0.0->gradio==3.39.0->autotrain-advanced) (1.0.2)\n",
      "Requirement already satisfied: pyasn1<0.6.0,>=0.4.6 in c:\\users\\sambi\\appdata\\local\\programs\\python\\python311\\lib\\site-packages (from pyasn1-modules>=0.2.1->google-auth<3,>=1.6.3->tensorboard->autotrain-advanced) (0.5.0)\n",
      "Requirement already satisfied: oauthlib>=3.0.0 in c:\\users\\sambi\\appdata\\local\\programs\\python\\python311\\lib\\site-packages (from requests-oauthlib>=0.7.0->google-auth-oauthlib<1.1,>=0.5->tensorboard->autotrain-advanced) (3.2.2)\n",
      "Requirement already satisfied: mpmath>=0.19 in c:\\users\\sambi\\appdata\\local\\programs\\python\\python311\\lib\\site-packages (from sympy->torch->invisible-watermark==0.2.0->autotrain-advanced) (1.3.0)\n",
      "Requirement already satisfied: huggingface_hub in c:\\users\\sambi\\appdata\\local\\programs\\python\\python311\\lib\\site-packages (0.16.4)\n",
      "Requirement already satisfied: filelock in c:\\users\\sambi\\appdata\\local\\programs\\python\\python311\\lib\\site-packages (from huggingface_hub) (3.12.2)\n",
      "Requirement already satisfied: fsspec in c:\\users\\sambi\\appdata\\local\\programs\\python\\python311\\lib\\site-packages (from huggingface_hub) (2023.6.0)\n",
      "Requirement already satisfied: requests in c:\\users\\sambi\\appdata\\local\\programs\\python\\python311\\lib\\site-packages (from huggingface_hub) (2.31.0)\n",
      "Requirement already satisfied: tqdm>=4.42.1 in c:\\users\\sambi\\appdata\\local\\programs\\python\\python311\\lib\\site-packages (from huggingface_hub) (4.65.0)\n",
      "Requirement already satisfied: pyyaml>=5.1 in c:\\users\\sambi\\appdata\\local\\programs\\python\\python311\\lib\\site-packages (from huggingface_hub) (6.0)\n",
      "Requirement already satisfied: typing-extensions>=3.7.4.3 in c:\\users\\sambi\\appdata\\local\\programs\\python\\python311\\lib\\site-packages (from huggingface_hub) (4.5.0)\n",
      "Requirement already satisfied: packaging>=20.9 in c:\\users\\sambi\\appdata\\local\\programs\\python\\python311\\lib\\site-packages (from huggingface_hub) (23.0)\n",
      "Requirement already satisfied: colorama in c:\\users\\sambi\\appdata\\local\\programs\\python\\python311\\lib\\site-packages (from tqdm>=4.42.1->huggingface_hub) (0.4.6)\n",
      "Requirement already satisfied: charset-normalizer<4,>=2 in c:\\users\\sambi\\appdata\\local\\programs\\python\\python311\\lib\\site-packages (from requests->huggingface_hub) (3.2.0)\n",
      "Requirement already satisfied: idna<4,>=2.5 in c:\\users\\sambi\\appdata\\local\\programs\\python\\python311\\lib\\site-packages (from requests->huggingface_hub) (3.4)\n",
      "Requirement already satisfied: urllib3<3,>=1.21.1 in c:\\users\\sambi\\appdata\\local\\programs\\python\\python311\\lib\\site-packages (from requests->huggingface_hub) (1.26.14)\n",
      "Requirement already satisfied: certifi>=2017.4.17 in c:\\users\\sambi\\appdata\\local\\programs\\python\\python311\\lib\\site-packages (from requests->huggingface_hub) (2022.12.7)\n"
     ]
    },
    {
     "name": "stderr",
     "output_type": "stream",
     "text": [
      "ERROR: Could not find a version that satisfies the requirement cuda (from versions: none)\n",
      "ERROR: No matching distribution found for cuda\n"
     ]
    }
   ],
   "source": [
    "!pip install autotrain-advanced\n",
    "!pip install huggingface_hub\n",
    "!pip install cuda"
   ]
  },
  {
   "cell_type": "code",
   "execution_count": 18,
   "metadata": {},
   "outputs": [
    {
     "name": "stdout",
     "output_type": "stream",
     "text": [
      "Sat Aug 19 16:48:06 2023       \n",
      "+-----------------------------------------------------------------------------+\n",
      "| NVIDIA-SMI 522.06       Driver Version: 522.06       CUDA Version: 11.8     |\n",
      "|-------------------------------+----------------------+----------------------+\n",
      "| GPU  Name            TCC/WDDM | Bus-Id        Disp.A | Volatile Uncorr. ECC |\n",
      "| Fan  Temp  Perf  Pwr:Usage/Cap|         Memory-Usage | GPU-Util  Compute M. |\n",
      "|                               |                      |               MIG M. |\n",
      "|===============================+======================+======================|\n",
      "|   0  NVIDIA GeForce ... WDDM  | 00000000:01:00.0 Off |                  N/A |\n",
      "| N/A    0C    P0    13W /  N/A |      0MiB /  4096MiB |      0%      Default |\n",
      "|                               |                      |                  N/A |\n",
      "+-------------------------------+----------------------+----------------------+\n",
      "                                                                               \n",
      "+-----------------------------------------------------------------------------+\n",
      "| Processes:                                                                  |\n",
      "|  GPU   GI   CI        PID   Type   Process name                  GPU Memory |\n",
      "|        ID   ID                                                   Usage      |\n",
      "|=============================================================================|\n",
      "|  No running processes found                                                 |\n",
      "+-----------------------------------------------------------------------------+\n"
     ]
    }
   ],
   "source": [
    "!nvidia-smi"
   ]
  },
  {
   "cell_type": "code",
   "execution_count": 3,
   "metadata": {},
   "outputs": [
    {
     "name": "stdout",
     "output_type": "stream",
     "text": [
      "'NoneType' object has no attribute 'cadam32bit_grad_fp32'\n"
     ]
    },
    {
     "name": "stderr",
     "output_type": "stream",
     "text": [
      "C:\\Users\\sambi\\AppData\\Local\\Programs\\Python\\Python311\\Lib\\site-packages\\bitsandbytes\\cextension.py:34: UserWarning: The installed version of bitsandbytes was compiled without GPU support. 8-bit optimizers, 8-bit multiplication, and GPU quantization are unavailable.\n",
      "  warn(\"The installed version of bitsandbytes was compiled without GPU support. \"\n",
      "\u001b[32m2023-08-19 15:39:33.773\u001b[0m | \u001b[33m\u001b[1mWARNING \u001b[0m | \u001b[36mautotrain.cli.run_dreambooth\u001b[0m:\u001b[36m<module>\u001b[0m:\u001b[36m15\u001b[0m - \u001b[33m\u001b[1m❌ Some DreamBooth components are missing! Please run `autotrain setup` to install it. Ignore this warning if you are not using DreamBooth or running `autotrain setup` already.\u001b[0m\n",
      "\u001b[32m2023-08-19 15:39:34.695\u001b[0m | \u001b[1mINFO    \u001b[0m | \u001b[36mautotrain.cli.run_setup\u001b[0m:\u001b[36mrun\u001b[0m:\u001b[36m34\u001b[0m - \u001b[1mInstalling latest transformers@main\u001b[0m\n",
      "\u001b[32m2023-08-19 15:41:26.668\u001b[0m | \u001b[1mINFO    \u001b[0m | \u001b[36mautotrain.cli.run_setup\u001b[0m:\u001b[36mrun\u001b[0m:\u001b[36m36\u001b[0m - \u001b[1mSuccessfully installed latest transformers\u001b[0m\n",
      "\u001b[32m2023-08-19 15:41:26.676\u001b[0m | \u001b[1mINFO    \u001b[0m | \u001b[36mautotrain.cli.run_setup\u001b[0m:\u001b[36mrun\u001b[0m:\u001b[36m40\u001b[0m - \u001b[1mInstalling latest peft@main\u001b[0m\n",
      "\u001b[32m2023-08-19 15:41:46.416\u001b[0m | \u001b[1mINFO    \u001b[0m | \u001b[36mautotrain.cli.run_setup\u001b[0m:\u001b[36mrun\u001b[0m:\u001b[36m42\u001b[0m - \u001b[1mSuccessfully installed latest peft\u001b[0m\n",
      "\u001b[32m2023-08-19 15:41:46.423\u001b[0m | \u001b[1mINFO    \u001b[0m | \u001b[36mautotrain.cli.run_setup\u001b[0m:\u001b[36mrun\u001b[0m:\u001b[36m46\u001b[0m - \u001b[1mInstalling latest diffusers@main\u001b[0m\n",
      "\u001b[32m2023-08-19 15:42:21.031\u001b[0m | \u001b[1mINFO    \u001b[0m | \u001b[36mautotrain.cli.run_setup\u001b[0m:\u001b[36mrun\u001b[0m:\u001b[36m48\u001b[0m - \u001b[1mSuccessfully installed latest diffusers\u001b[0m\n",
      "\u001b[32m2023-08-19 15:42:21.040\u001b[0m | \u001b[1mINFO    \u001b[0m | \u001b[36mautotrain.cli.run_setup\u001b[0m:\u001b[36mrun\u001b[0m:\u001b[36m52\u001b[0m - \u001b[1mInstalling latest trl@main\u001b[0m\n",
      "\u001b[32m2023-08-19 15:42:33.614\u001b[0m | \u001b[1mINFO    \u001b[0m | \u001b[36mautotrain.cli.run_setup\u001b[0m:\u001b[36mrun\u001b[0m:\u001b[36m54\u001b[0m - \u001b[1mSuccessfully installed latest trl\u001b[0m\n",
      "\u001b[32m2023-08-19 15:42:33.622\u001b[0m | \u001b[1mINFO    \u001b[0m | \u001b[36mautotrain.cli.run_setup\u001b[0m:\u001b[36mrun\u001b[0m:\u001b[36m58\u001b[0m - \u001b[1mInstalling latest xformers\u001b[0m\n",
      "\u001b[32m2023-08-19 15:43:32.817\u001b[0m | \u001b[1mINFO    \u001b[0m | \u001b[36mautotrain.cli.run_setup\u001b[0m:\u001b[36mrun\u001b[0m:\u001b[36m60\u001b[0m - \u001b[1mSuccessfully installed latest xformers\u001b[0m\n",
      "\u001b[32m2023-08-19 15:43:32.828\u001b[0m | \u001b[1mINFO    \u001b[0m | \u001b[36mautotrain.cli.run_setup\u001b[0m:\u001b[36mrun\u001b[0m:\u001b[36m65\u001b[0m - \u001b[1mInstalling latest PyTorch\u001b[0m\n",
      "\u001b[32m2023-08-19 15:43:48.266\u001b[0m | \u001b[1mINFO    \u001b[0m | \u001b[36mautotrain.cli.run_setup\u001b[0m:\u001b[36mrun\u001b[0m:\u001b[36m67\u001b[0m - \u001b[1mSuccessfully installed latest PyTorch\u001b[0m\n"
     ]
    }
   ],
   "source": [
    "!autotrain setup --update-torch"
   ]
  },
  {
   "cell_type": "code",
   "execution_count": 5,
   "metadata": {},
   "outputs": [
    {
     "data": {
      "application/vnd.jupyter.widget-view+json": {
       "model_id": "cf1a25ef7f3046b3915f40b8a4761032",
       "version_major": 2,
       "version_minor": 0
      },
      "text/plain": [
       "VBox(children=(HTML(value='<center> <img\\nsrc=https://huggingface.co/front/assets/huggingface_logo-noborder.sv…"
      ]
     },
     "metadata": {},
     "output_type": "display_data"
    }
   ],
   "source": [
    "from huggingface_hub import login\n",
    "login()"
   ]
  },
  {
   "cell_type": "code",
   "execution_count": 19,
   "metadata": {},
   "outputs": [
    {
     "name": "stderr",
     "output_type": "stream",
     "text": [
      "C:\\Users\\sambi\\AppData\\Local\\Programs\\Python\\Python311\\Lib\\site-packages\\bitsandbytes\\cextension.py:34: UserWarning: The installed version of bitsandbytes was compiled without GPU support. 8-bit optimizers, 8-bit multiplication, and GPU quantization are unavailable.\n",
      "  warn(\"The installed version of bitsandbytes was compiled without GPU support. \"\n",
      "WARNING[XFORMERS]: xFormers can't load C++/CUDA extensions. xFormers was built for:\n",
      "    PyTorch 2.0.1+cu118 with CUDA 1108 (you have 2.0.1+cpu)\n",
      "    Python  3.11.4 (you have 3.11.1)\n",
      "  Please reinstall xformers (see https://github.com/facebookresearch/xformers#installing-xformers)\n",
      "  Memory-efficient attention, SwiGLU, sparse and more won't be available.\n",
      "  Set XFORMERS_MORE_DETAILS=1 for more details\n",
      "C:\\Users\\sambi\\AppData\\Local\\Programs\\Python\\Python311\\Lib\\site-packages\\torchvision\\io\\image.py:13: UserWarning: Failed to load image Python extension: 'Could not find module 'C:\\Users\\sambi\\AppData\\Local\\Programs\\Python\\Python311\\Lib\\site-packages\\torchvision\\image.pyd' (or one of its dependencies). Try using the full path with constructor syntax.'If you don't plan on using image functionality from `torchvision.io`, you can ignore this warning. Otherwise, there might be something wrong with your environment. Did you have `libjpeg` or `libpng` installed before building `torchvision` from source?\n",
      "  warn(\n",
      "Traceback (most recent call last):\n",
      "  File \"<frozen runpy>\", line 198, in _run_module_as_main\n",
      "  File \"<frozen runpy>\", line 88, in _run_code\n",
      "  File \"C:\\Users\\sambi\\AppData\\Local\\Programs\\Python\\Python311\\Scripts\\autotrain.exe\\__main__.py\", line 7, in <module>\n",
      "  File \"C:\\Users\\sambi\\AppData\\Local\\Programs\\Python\\Python311\\Lib\\site-packages\\autotrain\\cli\\autotrain.py\", line 35, in main\n",
      "    command = args.func(args)\n",
      "              ^^^^^^^^^^^^^^^\n",
      "  File \"C:\\Users\\sambi\\AppData\\Local\\Programs\\Python\\Python311\\Lib\\site-packages\\autotrain\\cli\\run_llm.py\", line 16, in run_llm_command_factory\n",
      "    return RunAutoTrainLLMCommand(args)\n",
      "           ^^^^^^^^^^^^^^^^^^^^^^^^^^^^\n",
      "  File \"C:\\Users\\sambi\\AppData\\Local\\Programs\\Python\\Python311\\Lib\\site-packages\\autotrain\\cli\\run_llm.py\", line 359, in __init__\n",
      "    raise ValueError(\"No GPU found. Please install CUDA and try again.\")\n",
      "ValueError: No GPU found. Please install CUDA and try again.\n"
     ]
    }
   ],
   "source": [
    "!autotrain llm --train --project_name 'llama-2-fashion_generator' --model meta-llama/Llama-2-7b-hf --data_path Nikhil7280/partial_final_data --text_column prompts --text_column productDisplayName --use_peft --use_int4 --learning_rate 2e-4 --train_batch_size 2 --num_train_epochs 3 --trainer sft --model_max_length 2048 --push_to_hub --repo_id sAmBiT77/llama-2-fashion_generator --block_size 2048 > training.log "
   ]
  },
  {
   "cell_type": "code",
   "execution_count": null,
   "metadata": {},
   "outputs": [],
   "source": []
  },
  {
   "cell_type": "code",
   "execution_count": null,
   "metadata": {},
   "outputs": [],
   "source": []
  }
 ],
 "metadata": {
  "kernelspec": {
   "display_name": "Python 3",
   "language": "python",
   "name": "python3"
  },
  "language_info": {
   "codemirror_mode": {
    "name": "ipython",
    "version": 3
   },
   "file_extension": ".py",
   "mimetype": "text/x-python",
   "name": "python",
   "nbconvert_exporter": "python",
   "pygments_lexer": "ipython3",
   "version": "3.11.1"
  },
  "orig_nbformat": 4
 },
 "nbformat": 4,
 "nbformat_minor": 2
}
